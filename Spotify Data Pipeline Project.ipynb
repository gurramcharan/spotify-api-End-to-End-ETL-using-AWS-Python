{
 "cells": [
  {
   "cell_type": "code",
   "execution_count": 1,
   "id": "f0267650-46c0-4f9b-aae8-b62b013d09d0",
   "metadata": {},
   "outputs": [
    {
     "name": "stdout",
     "output_type": "stream",
     "text": [
      "Collecting spotipy\n",
      "  Downloading spotipy-2.25.1-py3-none-any.whl.metadata (5.1 kB)\n",
      "Collecting redis>=3.5.3 (from spotipy)\n",
      "  Downloading redis-6.2.0-py3-none-any.whl.metadata (10 kB)\n",
      "Requirement already satisfied: requests>=2.25.0 in /opt/anaconda3/lib/python3.11/site-packages (from spotipy) (2.31.0)\n",
      "Requirement already satisfied: urllib3>=1.26.0 in /opt/anaconda3/lib/python3.11/site-packages (from spotipy) (2.0.7)\n",
      "Requirement already satisfied: charset-normalizer<4,>=2 in /opt/anaconda3/lib/python3.11/site-packages (from requests>=2.25.0->spotipy) (2.0.4)\n",
      "Requirement already satisfied: idna<4,>=2.5 in /opt/anaconda3/lib/python3.11/site-packages (from requests>=2.25.0->spotipy) (3.4)\n",
      "Requirement already satisfied: certifi>=2017.4.17 in /opt/anaconda3/lib/python3.11/site-packages (from requests>=2.25.0->spotipy) (2024.2.2)\n",
      "Downloading spotipy-2.25.1-py3-none-any.whl (31 kB)\n",
      "Downloading redis-6.2.0-py3-none-any.whl (278 kB)\n",
      "\u001b[2K   \u001b[90m━━━━━━━━━━━━━━━━━━━━━━━━━━━━━━━━━━━━━━━━\u001b[0m \u001b[32m278.7/278.7 kB\u001b[0m \u001b[31m6.3 MB/s\u001b[0m eta \u001b[36m0:00:00\u001b[0m00:01\u001b[0m\n",
      "\u001b[?25hInstalling collected packages: redis, spotipy\n",
      "Successfully installed redis-6.2.0 spotipy-2.25.1\n",
      "Note: you may need to restart the kernel to use updated packages.\n"
     ]
    }
   ],
   "source": [
    "pip install spotipy"
   ]
  },
  {
   "cell_type": "code",
   "execution_count": 61,
   "id": "e2a27d8a-f936-4dc8-bade-dbd0a8f19b60",
   "metadata": {},
   "outputs": [],
   "source": [
    "import spotipy\n",
    "from spotipy.oauth2 import SpotifyClientCredentials\n",
    "import pandas as pd"
   ]
  },
  {
   "cell_type": "code",
   "execution_count": 4,
   "id": "52d98b58-8f21-4ddc-829d-b6b66cd4887b",
   "metadata": {},
   "outputs": [],
   "source": [
    "client_credentials_manager = SpotifyClientCredentials(client_id=\"eb857125bc6248a788856e2a08b8c74b\", client_secret = \"3f17e28b3cc241dda5b60f0ad732ff19\")"
   ]
  },
  {
   "cell_type": "code",
   "execution_count": 5,
   "id": "e4cb8665-89a1-4967-8abf-f931ffecb1a0",
   "metadata": {},
   "outputs": [],
   "source": [
    "sp = spotipy.Spotify(client_credentials_manager= client_credentials_manager)"
   ]
  },
  {
   "cell_type": "code",
   "execution_count": 14,
   "id": "1513a3e7-4a6d-4f7a-b0ec-28eb4cffbb38",
   "metadata": {},
   "outputs": [],
   "source": [
    "playlist_link = \"https://open.spotify.com/playlist/6VOedaf3eNWDOVpa9Qdlvg\""
   ]
  },
  {
   "cell_type": "code",
   "execution_count": 16,
   "id": "08c8312f-b1bf-48d6-9edc-68f876138793",
   "metadata": {},
   "outputs": [
    {
     "data": {
      "text/plain": [
       "'https://open.spotify.com/playlist/6VOedaf3eNWDOVpa9Qdlvg'"
      ]
     },
     "execution_count": 16,
     "metadata": {},
     "output_type": "execute_result"
    }
   ],
   "source": [
    "playlist_link"
   ]
  },
  {
   "cell_type": "code",
   "execution_count": 18,
   "id": "bcaf7220-80f8-476b-a253-2bf67cc65b35",
   "metadata": {},
   "outputs": [],
   "source": [
    "playlist_URI = playlist_link.split(\"/\")[-1]"
   ]
  },
  {
   "cell_type": "code",
   "execution_count": 19,
   "id": "9a4a4b31-8e65-4b1f-b900-3cc2ee83d10a",
   "metadata": {},
   "outputs": [],
   "source": [
    "data = sp.playlist_tracks(playlist_URI)"
   ]
  },
  {
   "cell_type": "code",
   "execution_count": 25,
   "id": "88da787a-1375-4ef7-b8ed-d778f950b3ff",
   "metadata": {},
   "outputs": [
    {
     "data": {
      "text/plain": [
       "75"
      ]
     },
     "execution_count": 25,
     "metadata": {},
     "output_type": "execute_result"
    }
   ],
   "source": [
    "len(data['items'])"
   ]
  },
  {
   "cell_type": "code",
   "execution_count": 31,
   "id": "218f2cdf-c179-4c40-bfa6-9b434353d984",
   "metadata": {},
   "outputs": [
    {
     "data": {
      "text/plain": [
       "'6xUYw5goKIoyJQi9C27UBy'"
      ]
     },
     "execution_count": 31,
     "metadata": {},
     "output_type": "execute_result"
    }
   ],
   "source": [
    "data['items'][0]['track']['album']['id']"
   ]
  },
  {
   "cell_type": "code",
   "execution_count": 33,
   "id": "ecec112c-6da5-46b9-8d05-7684b4fc3119",
   "metadata": {},
   "outputs": [
    {
     "data": {
      "text/plain": [
       "'NUNCA MUDA?'"
      ]
     },
     "execution_count": 33,
     "metadata": {},
     "output_type": "execute_result"
    }
   ],
   "source": [
    "data['items'][0]['track']['album']['name']"
   ]
  },
  {
   "cell_type": "code",
   "execution_count": 35,
   "id": "d3884fce-140f-48cd-83dd-bc34812637d0",
   "metadata": {},
   "outputs": [
    {
     "data": {
      "text/plain": [
       "'2025-01-09'"
      ]
     },
     "execution_count": 35,
     "metadata": {},
     "output_type": "execute_result"
    }
   ],
   "source": [
    "data['items'][0]['track']['album']['release_date']"
   ]
  },
  {
   "cell_type": "code",
   "execution_count": 37,
   "id": "f5218161-aef4-477f-b8f8-0eff2dbedd24",
   "metadata": {},
   "outputs": [
    {
     "data": {
      "text/plain": [
       "6"
      ]
     },
     "execution_count": 37,
     "metadata": {},
     "output_type": "execute_result"
    }
   ],
   "source": [
    "data['items'][0]['track']['album']['total_tracks']"
   ]
  },
  {
   "cell_type": "code",
   "execution_count": 38,
   "id": "d74d03ca-8325-44f8-96a2-52bae821f995",
   "metadata": {},
   "outputs": [
    {
     "data": {
      "text/plain": [
       "'https://open.spotify.com/album/6xUYw5goKIoyJQi9C27UBy'"
      ]
     },
     "execution_count": 38,
     "metadata": {},
     "output_type": "execute_result"
    }
   ],
   "source": [
    "data['items'][0]['track']['album']['external_urls']['spotify']"
   ]
  },
  {
   "cell_type": "code",
   "execution_count": 43,
   "id": "f51de5ab-7b43-4c8f-bded-d0a377ef5044",
   "metadata": {},
   "outputs": [],
   "source": [
    "album_list = []\n",
    "for row in data['items']:\n",
    "    album_id = row['track']['album']['id']\n",
    "    album_name = row['track']['album']['name']\n",
    "    album_release_date = row['track']['album']['release_date']\n",
    "    album_total_tracks = row['track']['album']['total_tracks']\n",
    "    album_url = row['track']['album']['external_urls']['spotify']\n",
    "    album_element = {\n",
    "        'album_id':album_id,\n",
    "        'album_name':album_name,\n",
    "        'release_date':album_release_date,\n",
    "        'total_tracks':album_total_tracks,\n",
    "        'url':album_url\n",
    "    }\n",
    "    album_list.append(album_element)"
   ]
  },
  {
   "cell_type": "code",
   "execution_count": 60,
   "id": "a73050f1-49bd-4523-827b-730aa563df39",
   "metadata": {},
   "outputs": [
    {
     "data": {
      "text/plain": [
       "75"
      ]
     },
     "execution_count": 60,
     "metadata": {},
     "output_type": "execute_result"
    }
   ],
   "source": [
    "len(album_list)"
   ]
  },
  {
   "cell_type": "code",
   "execution_count": 53,
   "id": "4da91d5c-9b94-4c78-bc5d-3dec85244a49",
   "metadata": {},
   "outputs": [],
   "source": [
    "artist_list = []\n",
    "for row in data['items']:\n",
    "    for key,value in row.items():\n",
    "        if key == \"track\":\n",
    "            for artist in value['artists']:\n",
    "                artist_dict = {\n",
    "                    'artist_id':artist['id'],\n",
    "                    'artist_name':artist['name'],\n",
    "                    'external_url':artist['href']\n",
    "                }\n",
    "                artist_list.append(artist_dict)"
   ]
  },
  {
   "cell_type": "code",
   "execution_count": 59,
   "id": "e328cda2-0d28-4973-8e02-7cf938922e72",
   "metadata": {},
   "outputs": [
    {
     "data": {
      "text/plain": [
       "148"
      ]
     },
     "execution_count": 59,
     "metadata": {},
     "output_type": "execute_result"
    }
   ],
   "source": [
    "len(artist_list)"
   ]
  },
  {
   "cell_type": "code",
   "execution_count": 56,
   "id": "cc839852-6418-4652-8a42-69e05ad142eb",
   "metadata": {},
   "outputs": [],
   "source": [
    "song_list = []\n",
    "for row in data['items']:\n",
    "    song_id = row['track']['id']\n",
    "    song_name = row['track']['name']\n",
    "    song_duration = row['track']['duration_ms']\n",
    "    song_url = row['track']['external_urls']['spotify']\n",
    "    song_popularity = row['track']['popularity']\n",
    "    song_added = row['added_at']\n",
    "    album_id = row['track']['album']['id']\n",
    "    artist_id = row['track']['album']['artists'][0]['id']\n",
    "    song_element = {'song_id':song_id,'song_name':song_name,'duration_ms':song_duration,'url':song_url,\n",
    "                    'popularity':song_popularity,'song_added':song_added,'album_id':album_id,\n",
    "                    'artist_id':artist_id\n",
    "                   }\n",
    "    song_list.append(song_element)"
   ]
  },
  {
   "cell_type": "code",
   "execution_count": 62,
   "id": "378c4536-4222-48c6-b1cd-88092e0c6477",
   "metadata": {},
   "outputs": [
    {
     "data": {
      "text/plain": [
       "75"
      ]
     },
     "execution_count": 62,
     "metadata": {},
     "output_type": "execute_result"
    }
   ],
   "source": [
    "len(song_list)"
   ]
  },
  {
   "cell_type": "code",
   "execution_count": 78,
   "id": "02002ed1-05ba-4ff7-894e-d9ad9506eadf",
   "metadata": {},
   "outputs": [],
   "source": [
    "album_df = pd.DataFrame.from_dict(album_list)"
   ]
  },
  {
   "cell_type": "code",
   "execution_count": 79,
   "id": "3d34f016-bc3c-4583-be22-4bc85acf3aff",
   "metadata": {},
   "outputs": [],
   "source": [
    "album_df = album_df.drop_duplicates(subset=['album_id']).copy()"
   ]
  },
  {
   "cell_type": "code",
   "execution_count": 82,
   "id": "a7be6bcd-27b0-45b6-9cdc-1b9c918c12dc",
   "metadata": {},
   "outputs": [],
   "source": [
    "artist_df = pd.DataFrame.from_dict(artist_list)"
   ]
  },
  {
   "cell_type": "code",
   "execution_count": 83,
   "id": "39ca2c54-53d3-44bd-be62-0cb64c5ba561",
   "metadata": {},
   "outputs": [],
   "source": [
    "artist_df = artist_df.drop_duplicates(subset=['artist_id']).copy()"
   ]
  },
  {
   "cell_type": "code",
   "execution_count": 70,
   "id": "a8856360-8624-4cf2-abea-ceb7d7160a47",
   "metadata": {},
   "outputs": [],
   "source": [
    "song_df = pd.DataFrame.from_dict(song_list)"
   ]
  },
  {
   "cell_type": "code",
   "execution_count": 71,
   "id": "748f7051-a129-4f98-ad4b-af66ccef327a",
   "metadata": {},
   "outputs": [
    {
     "data": {
      "text/html": [
       "<div>\n",
       "<style scoped>\n",
       "    .dataframe tbody tr th:only-of-type {\n",
       "        vertical-align: middle;\n",
       "    }\n",
       "\n",
       "    .dataframe tbody tr th {\n",
       "        vertical-align: top;\n",
       "    }\n",
       "\n",
       "    .dataframe thead th {\n",
       "        text-align: right;\n",
       "    }\n",
       "</style>\n",
       "<table border=\"1\" class=\"dataframe\">\n",
       "  <thead>\n",
       "    <tr style=\"text-align: right;\">\n",
       "      <th></th>\n",
       "      <th>album_id</th>\n",
       "      <th>album_name</th>\n",
       "      <th>release_date</th>\n",
       "      <th>total_tracks</th>\n",
       "      <th>url</th>\n",
       "    </tr>\n",
       "  </thead>\n",
       "  <tbody>\n",
       "    <tr>\n",
       "      <th>0</th>\n",
       "      <td>6xUYw5goKIoyJQi9C27UBy</td>\n",
       "      <td>NUNCA MUDA?</td>\n",
       "      <td>2025-01-09</td>\n",
       "      <td>6</td>\n",
       "      <td>https://open.spotify.com/album/6xUYw5goKIoyJQi...</td>\n",
       "    </tr>\n",
       "    <tr>\n",
       "      <th>1</th>\n",
       "      <td>0I7096R74VFP2xnMmp33sY</td>\n",
       "      <td>PASSO BEM SOLTO</td>\n",
       "      <td>2024-04-23</td>\n",
       "      <td>5</td>\n",
       "      <td>https://open.spotify.com/album/0I7096R74VFP2xn...</td>\n",
       "    </tr>\n",
       "    <tr>\n",
       "      <th>2</th>\n",
       "      <td>4s7LxMlh6RxgdMhldfMe8u</td>\n",
       "      <td>Funk de Beleza</td>\n",
       "      <td>2024-10-04</td>\n",
       "      <td>3</td>\n",
       "      <td>https://open.spotify.com/album/4s7LxMlh6RxgdMh...</td>\n",
       "    </tr>\n",
       "    <tr>\n",
       "      <th>3</th>\n",
       "      <td>3bT53CJPMsSXSn0vDAX2Do</td>\n",
       "      <td>DIA DELÍCIA</td>\n",
       "      <td>2025-04-25</td>\n",
       "      <td>4</td>\n",
       "      <td>https://open.spotify.com/album/3bT53CJPMsSXSn0...</td>\n",
       "    </tr>\n",
       "    <tr>\n",
       "      <th>4</th>\n",
       "      <td>5fvUS8yHMCkTZj4sJ0FHDV</td>\n",
       "      <td>Vem Vem</td>\n",
       "      <td>2025-05-30</td>\n",
       "      <td>4</td>\n",
       "      <td>https://open.spotify.com/album/5fvUS8yHMCkTZj4...</td>\n",
       "    </tr>\n",
       "  </tbody>\n",
       "</table>\n",
       "</div>"
      ],
      "text/plain": [
       "                 album_id       album_name release_date  total_tracks  \\\n",
       "0  6xUYw5goKIoyJQi9C27UBy      NUNCA MUDA?   2025-01-09             6   \n",
       "1  0I7096R74VFP2xnMmp33sY  PASSO BEM SOLTO   2024-04-23             5   \n",
       "2  4s7LxMlh6RxgdMhldfMe8u   Funk de Beleza   2024-10-04             3   \n",
       "3  3bT53CJPMsSXSn0vDAX2Do      DIA DELÍCIA   2025-04-25             4   \n",
       "4  5fvUS8yHMCkTZj4sJ0FHDV          Vem Vem   2025-05-30             4   \n",
       "\n",
       "                                                 url  \n",
       "0  https://open.spotify.com/album/6xUYw5goKIoyJQi...  \n",
       "1  https://open.spotify.com/album/0I7096R74VFP2xn...  \n",
       "2  https://open.spotify.com/album/4s7LxMlh6RxgdMh...  \n",
       "3  https://open.spotify.com/album/3bT53CJPMsSXSn0...  \n",
       "4  https://open.spotify.com/album/5fvUS8yHMCkTZj4...  "
      ]
     },
     "execution_count": 71,
     "metadata": {},
     "output_type": "execute_result"
    }
   ],
   "source": [
    "album_df.head()"
   ]
  },
  {
   "cell_type": "code",
   "execution_count": 72,
   "id": "23b9526e-bb48-4020-a1f0-e4de7b514afb",
   "metadata": {},
   "outputs": [
    {
     "data": {
      "text/html": [
       "<div>\n",
       "<style scoped>\n",
       "    .dataframe tbody tr th:only-of-type {\n",
       "        vertical-align: middle;\n",
       "    }\n",
       "\n",
       "    .dataframe tbody tr th {\n",
       "        vertical-align: top;\n",
       "    }\n",
       "\n",
       "    .dataframe thead th {\n",
       "        text-align: right;\n",
       "    }\n",
       "</style>\n",
       "<table border=\"1\" class=\"dataframe\">\n",
       "  <thead>\n",
       "    <tr style=\"text-align: right;\">\n",
       "      <th></th>\n",
       "      <th>artist_id</th>\n",
       "      <th>artist_name</th>\n",
       "      <th>external_url</th>\n",
       "    </tr>\n",
       "  </thead>\n",
       "  <tbody>\n",
       "    <tr>\n",
       "      <th>0</th>\n",
       "      <td>5dDNNq04RjKXFOADdHd6VX</td>\n",
       "      <td>Scythermane</td>\n",
       "      <td>https://api.spotify.com/v1/artists/5dDNNq04RjK...</td>\n",
       "    </tr>\n",
       "    <tr>\n",
       "      <th>1</th>\n",
       "      <td>7lAaAGxYxk2GH8cMbTEwAL</td>\n",
       "      <td>NXGHT!</td>\n",
       "      <td>https://api.spotify.com/v1/artists/7lAaAGxYxk2...</td>\n",
       "    </tr>\n",
       "    <tr>\n",
       "      <th>2</th>\n",
       "      <td>14hsjenLEdvafsGkk2CEiF</td>\n",
       "      <td>MC Fabinho da Osk</td>\n",
       "      <td>https://api.spotify.com/v1/artists/14hsjenLEdv...</td>\n",
       "    </tr>\n",
       "    <tr>\n",
       "      <th>3</th>\n",
       "      <td>5SCDfg1YoEfI5gFtXqEWah</td>\n",
       "      <td>ATLXS</td>\n",
       "      <td>https://api.spotify.com/v1/artists/5SCDfg1YoEf...</td>\n",
       "    </tr>\n",
       "    <tr>\n",
       "      <th>4</th>\n",
       "      <td>3g0UoyvaTaHUrfpHiRqsD1</td>\n",
       "      <td>Nateki</td>\n",
       "      <td>https://api.spotify.com/v1/artists/3g0UoyvaTaH...</td>\n",
       "    </tr>\n",
       "  </tbody>\n",
       "</table>\n",
       "</div>"
      ],
      "text/plain": [
       "                artist_id        artist_name  \\\n",
       "0  5dDNNq04RjKXFOADdHd6VX        Scythermane   \n",
       "1  7lAaAGxYxk2GH8cMbTEwAL             NXGHT!   \n",
       "2  14hsjenLEdvafsGkk2CEiF  MC Fabinho da Osk   \n",
       "3  5SCDfg1YoEfI5gFtXqEWah              ATLXS   \n",
       "4  3g0UoyvaTaHUrfpHiRqsD1             Nateki   \n",
       "\n",
       "                                        external_url  \n",
       "0  https://api.spotify.com/v1/artists/5dDNNq04RjK...  \n",
       "1  https://api.spotify.com/v1/artists/7lAaAGxYxk2...  \n",
       "2  https://api.spotify.com/v1/artists/14hsjenLEdv...  \n",
       "3  https://api.spotify.com/v1/artists/5SCDfg1YoEf...  \n",
       "4  https://api.spotify.com/v1/artists/3g0UoyvaTaH...  "
      ]
     },
     "execution_count": 72,
     "metadata": {},
     "output_type": "execute_result"
    }
   ],
   "source": [
    "artist_df.head()"
   ]
  },
  {
   "cell_type": "code",
   "execution_count": 73,
   "id": "13092132-bdf4-4afb-92fe-92d1d7bd49c6",
   "metadata": {},
   "outputs": [
    {
     "data": {
      "text/html": [
       "<div>\n",
       "<style scoped>\n",
       "    .dataframe tbody tr th:only-of-type {\n",
       "        vertical-align: middle;\n",
       "    }\n",
       "\n",
       "    .dataframe tbody tr th {\n",
       "        vertical-align: top;\n",
       "    }\n",
       "\n",
       "    .dataframe thead th {\n",
       "        text-align: right;\n",
       "    }\n",
       "</style>\n",
       "<table border=\"1\" class=\"dataframe\">\n",
       "  <thead>\n",
       "    <tr style=\"text-align: right;\">\n",
       "      <th></th>\n",
       "      <th>song_id</th>\n",
       "      <th>song_name</th>\n",
       "      <th>duration_ms</th>\n",
       "      <th>url</th>\n",
       "      <th>popularity</th>\n",
       "      <th>song_added</th>\n",
       "      <th>album_id</th>\n",
       "      <th>artist_id</th>\n",
       "    </tr>\n",
       "  </thead>\n",
       "  <tbody>\n",
       "    <tr>\n",
       "      <th>0</th>\n",
       "      <td>5EIjpM1B1VsLoKvv2iwd0P</td>\n",
       "      <td>NUNCA MUDA?</td>\n",
       "      <td>81500</td>\n",
       "      <td>https://open.spotify.com/track/5EIjpM1B1VsLoKv...</td>\n",
       "      <td>84</td>\n",
       "      <td>2025-03-07T07:49:17Z</td>\n",
       "      <td>6xUYw5goKIoyJQi9C27UBy</td>\n",
       "      <td>5dDNNq04RjKXFOADdHd6VX</td>\n",
       "    </tr>\n",
       "    <tr>\n",
       "      <th>1</th>\n",
       "      <td>4sTlQPMyoFMPdhAJvErBN3</td>\n",
       "      <td>PASSO BEM SOLTO - Slowed</td>\n",
       "      <td>116072</td>\n",
       "      <td>https://open.spotify.com/track/4sTlQPMyoFMPdhA...</td>\n",
       "      <td>90</td>\n",
       "      <td>2025-05-10T16:34:06Z</td>\n",
       "      <td>0I7096R74VFP2xnMmp33sY</td>\n",
       "      <td>5SCDfg1YoEfI5gFtXqEWah</td>\n",
       "    </tr>\n",
       "    <tr>\n",
       "      <th>2</th>\n",
       "      <td>43jExF2HeZ6cJIGrWF0ie4</td>\n",
       "      <td>Funk de Beleza - Slowed</td>\n",
       "      <td>145115</td>\n",
       "      <td>https://open.spotify.com/track/43jExF2HeZ6cJIG...</td>\n",
       "      <td>83</td>\n",
       "      <td>2025-03-07T07:49:21Z</td>\n",
       "      <td>4s7LxMlh6RxgdMhldfMe8u</td>\n",
       "      <td>3g0UoyvaTaHUrfpHiRqsD1</td>\n",
       "    </tr>\n",
       "    <tr>\n",
       "      <th>3</th>\n",
       "      <td>094IjHeVUviN4aBnSXYsuj</td>\n",
       "      <td>DIA DELÍCIA</td>\n",
       "      <td>75461</td>\n",
       "      <td>https://open.spotify.com/track/094IjHeVUviN4aB...</td>\n",
       "      <td>90</td>\n",
       "      <td>2025-07-09T07:59:30Z</td>\n",
       "      <td>3bT53CJPMsSXSn0vDAX2Do</td>\n",
       "      <td>1kd6WqngBvP0Vthu1sGI0j</td>\n",
       "    </tr>\n",
       "    <tr>\n",
       "      <th>4</th>\n",
       "      <td>2FnkrCrbXJuebXxnVtXiHI</td>\n",
       "      <td>Vem Vem</td>\n",
       "      <td>83183</td>\n",
       "      <td>https://open.spotify.com/track/2FnkrCrbXJuebXx...</td>\n",
       "      <td>86</td>\n",
       "      <td>2025-07-28T18:37:14Z</td>\n",
       "      <td>5fvUS8yHMCkTZj4sJ0FHDV</td>\n",
       "      <td>2q5vFLZus8uaVSzmIwH4Tz</td>\n",
       "    </tr>\n",
       "  </tbody>\n",
       "</table>\n",
       "</div>"
      ],
      "text/plain": [
       "                  song_id                 song_name  duration_ms  \\\n",
       "0  5EIjpM1B1VsLoKvv2iwd0P               NUNCA MUDA?        81500   \n",
       "1  4sTlQPMyoFMPdhAJvErBN3  PASSO BEM SOLTO - Slowed       116072   \n",
       "2  43jExF2HeZ6cJIGrWF0ie4   Funk de Beleza - Slowed       145115   \n",
       "3  094IjHeVUviN4aBnSXYsuj               DIA DELÍCIA        75461   \n",
       "4  2FnkrCrbXJuebXxnVtXiHI                   Vem Vem        83183   \n",
       "\n",
       "                                                 url  popularity  \\\n",
       "0  https://open.spotify.com/track/5EIjpM1B1VsLoKv...          84   \n",
       "1  https://open.spotify.com/track/4sTlQPMyoFMPdhA...          90   \n",
       "2  https://open.spotify.com/track/43jExF2HeZ6cJIG...          83   \n",
       "3  https://open.spotify.com/track/094IjHeVUviN4aB...          90   \n",
       "4  https://open.spotify.com/track/2FnkrCrbXJuebXx...          86   \n",
       "\n",
       "             song_added                album_id               artist_id  \n",
       "0  2025-03-07T07:49:17Z  6xUYw5goKIoyJQi9C27UBy  5dDNNq04RjKXFOADdHd6VX  \n",
       "1  2025-05-10T16:34:06Z  0I7096R74VFP2xnMmp33sY  5SCDfg1YoEfI5gFtXqEWah  \n",
       "2  2025-03-07T07:49:21Z  4s7LxMlh6RxgdMhldfMe8u  3g0UoyvaTaHUrfpHiRqsD1  \n",
       "3  2025-07-09T07:59:30Z  3bT53CJPMsSXSn0vDAX2Do  1kd6WqngBvP0Vthu1sGI0j  \n",
       "4  2025-07-28T18:37:14Z  5fvUS8yHMCkTZj4sJ0FHDV  2q5vFLZus8uaVSzmIwH4Tz  "
      ]
     },
     "execution_count": 73,
     "metadata": {},
     "output_type": "execute_result"
    }
   ],
   "source": [
    "song_df.head()"
   ]
  },
  {
   "cell_type": "code",
   "execution_count": 80,
   "id": "ab7009ba-54ba-4f11-8290-744c31ba41af",
   "metadata": {},
   "outputs": [],
   "source": [
    "album_df['release_date'] = pd.to_datetime(album_df['release_date'])"
   ]
  },
  {
   "cell_type": "code",
   "execution_count": 84,
   "id": "f7f0033f-9390-4823-99d9-ec16e6c378d4",
   "metadata": {},
   "outputs": [
    {
     "name": "stdout",
     "output_type": "stream",
     "text": [
      "<class 'pandas.core.frame.DataFrame'>\n",
      "Index: 74 entries, 0 to 74\n",
      "Data columns (total 5 columns):\n",
      " #   Column        Non-Null Count  Dtype         \n",
      "---  ------        --------------  -----         \n",
      " 0   album_id      74 non-null     object        \n",
      " 1   album_name    74 non-null     object        \n",
      " 2   release_date  74 non-null     datetime64[ns]\n",
      " 3   total_tracks  74 non-null     int64         \n",
      " 4   url           74 non-null     object        \n",
      "dtypes: datetime64[ns](1), int64(1), object(3)\n",
      "memory usage: 3.5+ KB\n"
     ]
    }
   ],
   "source": [
    "album_df.info()"
   ]
  },
  {
   "cell_type": "code",
   "execution_count": 85,
   "id": "710b288e-9957-4407-8966-7d6736466bb7",
   "metadata": {},
   "outputs": [],
   "source": [
    "song_df['song_added'] = pd.to_datetime(song_df['song_added'])"
   ]
  },
  {
   "cell_type": "code",
   "execution_count": 86,
   "id": "58d14099-8200-4bec-84a8-35e4fe3af5f1",
   "metadata": {},
   "outputs": [
    {
     "name": "stdout",
     "output_type": "stream",
     "text": [
      "<class 'pandas.core.frame.DataFrame'>\n",
      "RangeIndex: 75 entries, 0 to 74\n",
      "Data columns (total 8 columns):\n",
      " #   Column       Non-Null Count  Dtype              \n",
      "---  ------       --------------  -----              \n",
      " 0   song_id      75 non-null     object             \n",
      " 1   song_name    75 non-null     object             \n",
      " 2   duration_ms  75 non-null     int64              \n",
      " 3   url          75 non-null     object             \n",
      " 4   popularity   75 non-null     int64              \n",
      " 5   song_added   75 non-null     datetime64[ns, UTC]\n",
      " 6   album_id     75 non-null     object             \n",
      " 7   artist_id    75 non-null     object             \n",
      "dtypes: datetime64[ns, UTC](1), int64(2), object(5)\n",
      "memory usage: 4.8+ KB\n"
     ]
    }
   ],
   "source": [
    "song_df.info()"
   ]
  },
  {
   "cell_type": "code",
   "execution_count": null,
   "id": "dca0568f-167a-4488-afe7-1fa15c852125",
   "metadata": {},
   "outputs": [],
   "source": []
  }
 ],
 "metadata": {
  "kernelspec": {
   "display_name": "Python 3 (ipykernel)",
   "language": "python",
   "name": "python3"
  },
  "language_info": {
   "codemirror_mode": {
    "name": "ipython",
    "version": 3
   },
   "file_extension": ".py",
   "mimetype": "text/x-python",
   "name": "python",
   "nbconvert_exporter": "python",
   "pygments_lexer": "ipython3",
   "version": "3.11.7"
  }
 },
 "nbformat": 4,
 "nbformat_minor": 5
}
